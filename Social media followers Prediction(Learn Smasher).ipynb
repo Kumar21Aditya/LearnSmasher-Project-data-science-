{
 "cells": [
  {
   "cell_type": "code",
   "execution_count": 1,
   "id": "313495b7",
   "metadata": {},
   "outputs": [],
   "source": [
    "import pandas as pd\n",
    "import numpy as np\n",
    "import matplotlib.pyplot as plt\n",
    "%matplotlib inline\n",
    "import seaborn as sns"
   ]
  },
  {
   "cell_type": "code",
   "execution_count": 2,
   "id": "c153e9d4",
   "metadata": {},
   "outputs": [],
   "source": [
    "df=pd.read_csv(\"C:/Users/adity/OneDrive/Desktop/LEARNER SMASHER/social media prediction.csv\")"
   ]
  },
  {
   "cell_type": "code",
   "execution_count": 3,
   "id": "1587c03a",
   "metadata": {},
   "outputs": [
    {
     "data": {
      "text/html": [
       "<div>\n",
       "<style scoped>\n",
       "    .dataframe tbody tr th:only-of-type {\n",
       "        vertical-align: middle;\n",
       "    }\n",
       "\n",
       "    .dataframe tbody tr th {\n",
       "        vertical-align: top;\n",
       "    }\n",
       "\n",
       "    .dataframe thead th {\n",
       "        text-align: right;\n",
       "    }\n",
       "</style>\n",
       "<table border=\"1\" class=\"dataframe\">\n",
       "  <thead>\n",
       "    <tr style=\"text-align: right;\">\n",
       "      <th></th>\n",
       "      <th>period_start</th>\n",
       "      <th>period_end</th>\n",
       "      <th>followers_gained</th>\n",
       "      <th>followers_lost</th>\n",
       "      <th>followers_net</th>\n",
       "      <th>followers_total</th>\n",
       "      <th>subscribers_gained</th>\n",
       "      <th>subscribers_lost</th>\n",
       "      <th>subscribers_net</th>\n",
       "      <th>subscribers_total</th>\n",
       "      <th>views</th>\n",
       "    </tr>\n",
       "  </thead>\n",
       "  <tbody>\n",
       "    <tr>\n",
       "      <th>0</th>\n",
       "      <td>05-01-2020</td>\n",
       "      <td>5/31/2020</td>\n",
       "      <td>1</td>\n",
       "      <td>0</td>\n",
       "      <td>1</td>\n",
       "      <td>1</td>\n",
       "      <td>0</td>\n",
       "      <td>0</td>\n",
       "      <td>0</td>\n",
       "      <td>0</td>\n",
       "      <td>128.0</td>\n",
       "    </tr>\n",
       "    <tr>\n",
       "      <th>1</th>\n",
       "      <td>06-01-2020</td>\n",
       "      <td>6/30/2020</td>\n",
       "      <td>8</td>\n",
       "      <td>0</td>\n",
       "      <td>8</td>\n",
       "      <td>9</td>\n",
       "      <td>0</td>\n",
       "      <td>0</td>\n",
       "      <td>0</td>\n",
       "      <td>0</td>\n",
       "      <td>16130.0</td>\n",
       "    </tr>\n",
       "    <tr>\n",
       "      <th>2</th>\n",
       "      <td>07-01-2020</td>\n",
       "      <td>7/31/2020</td>\n",
       "      <td>103</td>\n",
       "      <td>0</td>\n",
       "      <td>103</td>\n",
       "      <td>112</td>\n",
       "      <td>0</td>\n",
       "      <td>0</td>\n",
       "      <td>0</td>\n",
       "      <td>0</td>\n",
       "      <td>14616.0</td>\n",
       "    </tr>\n",
       "    <tr>\n",
       "      <th>3</th>\n",
       "      <td>08-01-2020</td>\n",
       "      <td>8/31/2020</td>\n",
       "      <td>46</td>\n",
       "      <td>0</td>\n",
       "      <td>46</td>\n",
       "      <td>158</td>\n",
       "      <td>0</td>\n",
       "      <td>0</td>\n",
       "      <td>0</td>\n",
       "      <td>0</td>\n",
       "      <td>4053.0</td>\n",
       "    </tr>\n",
       "    <tr>\n",
       "      <th>4</th>\n",
       "      <td>09-01-2020</td>\n",
       "      <td>9/30/2020</td>\n",
       "      <td>35</td>\n",
       "      <td>1</td>\n",
       "      <td>34</td>\n",
       "      <td>192</td>\n",
       "      <td>0</td>\n",
       "      <td>0</td>\n",
       "      <td>0</td>\n",
       "      <td>0</td>\n",
       "      <td>5153.0</td>\n",
       "    </tr>\n",
       "    <tr>\n",
       "      <th>5</th>\n",
       "      <td>10-01-2020</td>\n",
       "      <td>10/31/2020</td>\n",
       "      <td>30</td>\n",
       "      <td>0</td>\n",
       "      <td>30</td>\n",
       "      <td>222</td>\n",
       "      <td>0</td>\n",
       "      <td>0</td>\n",
       "      <td>0</td>\n",
       "      <td>0</td>\n",
       "      <td>16029.0</td>\n",
       "    </tr>\n",
       "    <tr>\n",
       "      <th>6</th>\n",
       "      <td>11-01-2020</td>\n",
       "      <td>11/30/2020</td>\n",
       "      <td>311</td>\n",
       "      <td>1</td>\n",
       "      <td>310</td>\n",
       "      <td>532</td>\n",
       "      <td>3</td>\n",
       "      <td>0</td>\n",
       "      <td>3</td>\n",
       "      <td>3</td>\n",
       "      <td>59976.0</td>\n",
       "    </tr>\n",
       "    <tr>\n",
       "      <th>7</th>\n",
       "      <td>12-01-2020</td>\n",
       "      <td>12/31/2020</td>\n",
       "      <td>217</td>\n",
       "      <td>0</td>\n",
       "      <td>217</td>\n",
       "      <td>749</td>\n",
       "      <td>10</td>\n",
       "      <td>1</td>\n",
       "      <td>9</td>\n",
       "      <td>12</td>\n",
       "      <td>76322.0</td>\n",
       "    </tr>\n",
       "    <tr>\n",
       "      <th>8</th>\n",
       "      <td>01-01-2021</td>\n",
       "      <td>1/31/2021</td>\n",
       "      <td>826</td>\n",
       "      <td>1</td>\n",
       "      <td>825</td>\n",
       "      <td>1574</td>\n",
       "      <td>14</td>\n",
       "      <td>1</td>\n",
       "      <td>13</td>\n",
       "      <td>25</td>\n",
       "      <td>108962.0</td>\n",
       "    </tr>\n",
       "    <tr>\n",
       "      <th>9</th>\n",
       "      <td>02-01-2021</td>\n",
       "      <td>2/28/2021</td>\n",
       "      <td>394</td>\n",
       "      <td>1</td>\n",
       "      <td>393</td>\n",
       "      <td>1967</td>\n",
       "      <td>7</td>\n",
       "      <td>0</td>\n",
       "      <td>7</td>\n",
       "      <td>32</td>\n",
       "      <td>100650.0</td>\n",
       "    </tr>\n",
       "    <tr>\n",
       "      <th>10</th>\n",
       "      <td>03-01-2021</td>\n",
       "      <td>3/31/2021</td>\n",
       "      <td>390</td>\n",
       "      <td>2</td>\n",
       "      <td>388</td>\n",
       "      <td>2355</td>\n",
       "      <td>7</td>\n",
       "      <td>2</td>\n",
       "      <td>5</td>\n",
       "      <td>37</td>\n",
       "      <td>102987.0</td>\n",
       "    </tr>\n",
       "    <tr>\n",
       "      <th>11</th>\n",
       "      <td>04-01-2021</td>\n",
       "      <td>4/30/2021</td>\n",
       "      <td>454</td>\n",
       "      <td>2</td>\n",
       "      <td>452</td>\n",
       "      <td>2807</td>\n",
       "      <td>8</td>\n",
       "      <td>0</td>\n",
       "      <td>8</td>\n",
       "      <td>45</td>\n",
       "      <td>134765.0</td>\n",
       "    </tr>\n",
       "    <tr>\n",
       "      <th>12</th>\n",
       "      <td>05-01-2021</td>\n",
       "      <td>5/31/2021</td>\n",
       "      <td>462</td>\n",
       "      <td>7</td>\n",
       "      <td>455</td>\n",
       "      <td>3262</td>\n",
       "      <td>6</td>\n",
       "      <td>0</td>\n",
       "      <td>6</td>\n",
       "      <td>51</td>\n",
       "      <td>167608.0</td>\n",
       "    </tr>\n",
       "    <tr>\n",
       "      <th>13</th>\n",
       "      <td>06-01-2021</td>\n",
       "      <td>6/30/2021</td>\n",
       "      <td>595</td>\n",
       "      <td>3</td>\n",
       "      <td>592</td>\n",
       "      <td>3854</td>\n",
       "      <td>5</td>\n",
       "      <td>0</td>\n",
       "      <td>5</td>\n",
       "      <td>56</td>\n",
       "      <td>154235.0</td>\n",
       "    </tr>\n",
       "    <tr>\n",
       "      <th>14</th>\n",
       "      <td>07-01-2021</td>\n",
       "      <td>7/31/2021</td>\n",
       "      <td>541</td>\n",
       "      <td>5</td>\n",
       "      <td>536</td>\n",
       "      <td>4390</td>\n",
       "      <td>20</td>\n",
       "      <td>6</td>\n",
       "      <td>14</td>\n",
       "      <td>70</td>\n",
       "      <td>144167.0</td>\n",
       "    </tr>\n",
       "    <tr>\n",
       "      <th>15</th>\n",
       "      <td>08-01-2021</td>\n",
       "      <td>8/31/2021</td>\n",
       "      <td>57</td>\n",
       "      <td>0</td>\n",
       "      <td>57</td>\n",
       "      <td>4447</td>\n",
       "      <td>6</td>\n",
       "      <td>2</td>\n",
       "      <td>4</td>\n",
       "      <td>74</td>\n",
       "      <td>NaN</td>\n",
       "    </tr>\n",
       "  </tbody>\n",
       "</table>\n",
       "</div>"
      ],
      "text/plain": [
       "   period_start  period_end  followers_gained  followers_lost  followers_net  \\\n",
       "0    05-01-2020   5/31/2020                 1               0              1   \n",
       "1    06-01-2020   6/30/2020                 8               0              8   \n",
       "2    07-01-2020   7/31/2020               103               0            103   \n",
       "3    08-01-2020   8/31/2020                46               0             46   \n",
       "4    09-01-2020   9/30/2020                35               1             34   \n",
       "5    10-01-2020  10/31/2020                30               0             30   \n",
       "6    11-01-2020  11/30/2020               311               1            310   \n",
       "7    12-01-2020  12/31/2020               217               0            217   \n",
       "8    01-01-2021   1/31/2021               826               1            825   \n",
       "9    02-01-2021   2/28/2021               394               1            393   \n",
       "10   03-01-2021   3/31/2021               390               2            388   \n",
       "11   04-01-2021   4/30/2021               454               2            452   \n",
       "12   05-01-2021   5/31/2021               462               7            455   \n",
       "13   06-01-2021   6/30/2021               595               3            592   \n",
       "14   07-01-2021   7/31/2021               541               5            536   \n",
       "15   08-01-2021   8/31/2021                57               0             57   \n",
       "\n",
       "    followers_total  subscribers_gained  subscribers_lost  subscribers_net  \\\n",
       "0                 1                   0                 0                0   \n",
       "1                 9                   0                 0                0   \n",
       "2               112                   0                 0                0   \n",
       "3               158                   0                 0                0   \n",
       "4               192                   0                 0                0   \n",
       "5               222                   0                 0                0   \n",
       "6               532                   3                 0                3   \n",
       "7               749                  10                 1                9   \n",
       "8              1574                  14                 1               13   \n",
       "9              1967                   7                 0                7   \n",
       "10             2355                   7                 2                5   \n",
       "11             2807                   8                 0                8   \n",
       "12             3262                   6                 0                6   \n",
       "13             3854                   5                 0                5   \n",
       "14             4390                  20                 6               14   \n",
       "15             4447                   6                 2                4   \n",
       "\n",
       "    subscribers_total     views  \n",
       "0                   0     128.0  \n",
       "1                   0   16130.0  \n",
       "2                   0   14616.0  \n",
       "3                   0    4053.0  \n",
       "4                   0    5153.0  \n",
       "5                   0   16029.0  \n",
       "6                   3   59976.0  \n",
       "7                  12   76322.0  \n",
       "8                  25  108962.0  \n",
       "9                  32  100650.0  \n",
       "10                 37  102987.0  \n",
       "11                 45  134765.0  \n",
       "12                 51  167608.0  \n",
       "13                 56  154235.0  \n",
       "14                 70  144167.0  \n",
       "15                 74       NaN  "
      ]
     },
     "execution_count": 3,
     "metadata": {},
     "output_type": "execute_result"
    }
   ],
   "source": [
    "df"
   ]
  },
  {
   "cell_type": "markdown",
   "id": "48fcbdbb",
   "metadata": {},
   "source": [
    "# First 5 and last 5 rows of the dataset"
   ]
  },
  {
   "cell_type": "code",
   "execution_count": 4,
   "id": "8ec805c2",
   "metadata": {},
   "outputs": [
    {
     "data": {
      "text/html": [
       "<div>\n",
       "<style scoped>\n",
       "    .dataframe tbody tr th:only-of-type {\n",
       "        vertical-align: middle;\n",
       "    }\n",
       "\n",
       "    .dataframe tbody tr th {\n",
       "        vertical-align: top;\n",
       "    }\n",
       "\n",
       "    .dataframe thead th {\n",
       "        text-align: right;\n",
       "    }\n",
       "</style>\n",
       "<table border=\"1\" class=\"dataframe\">\n",
       "  <thead>\n",
       "    <tr style=\"text-align: right;\">\n",
       "      <th></th>\n",
       "      <th>period_start</th>\n",
       "      <th>period_end</th>\n",
       "      <th>followers_gained</th>\n",
       "      <th>followers_lost</th>\n",
       "      <th>followers_net</th>\n",
       "      <th>followers_total</th>\n",
       "      <th>subscribers_gained</th>\n",
       "      <th>subscribers_lost</th>\n",
       "      <th>subscribers_net</th>\n",
       "      <th>subscribers_total</th>\n",
       "      <th>views</th>\n",
       "    </tr>\n",
       "  </thead>\n",
       "  <tbody>\n",
       "    <tr>\n",
       "      <th>0</th>\n",
       "      <td>05-01-2020</td>\n",
       "      <td>5/31/2020</td>\n",
       "      <td>1</td>\n",
       "      <td>0</td>\n",
       "      <td>1</td>\n",
       "      <td>1</td>\n",
       "      <td>0</td>\n",
       "      <td>0</td>\n",
       "      <td>0</td>\n",
       "      <td>0</td>\n",
       "      <td>128.0</td>\n",
       "    </tr>\n",
       "    <tr>\n",
       "      <th>1</th>\n",
       "      <td>06-01-2020</td>\n",
       "      <td>6/30/2020</td>\n",
       "      <td>8</td>\n",
       "      <td>0</td>\n",
       "      <td>8</td>\n",
       "      <td>9</td>\n",
       "      <td>0</td>\n",
       "      <td>0</td>\n",
       "      <td>0</td>\n",
       "      <td>0</td>\n",
       "      <td>16130.0</td>\n",
       "    </tr>\n",
       "    <tr>\n",
       "      <th>2</th>\n",
       "      <td>07-01-2020</td>\n",
       "      <td>7/31/2020</td>\n",
       "      <td>103</td>\n",
       "      <td>0</td>\n",
       "      <td>103</td>\n",
       "      <td>112</td>\n",
       "      <td>0</td>\n",
       "      <td>0</td>\n",
       "      <td>0</td>\n",
       "      <td>0</td>\n",
       "      <td>14616.0</td>\n",
       "    </tr>\n",
       "    <tr>\n",
       "      <th>3</th>\n",
       "      <td>08-01-2020</td>\n",
       "      <td>8/31/2020</td>\n",
       "      <td>46</td>\n",
       "      <td>0</td>\n",
       "      <td>46</td>\n",
       "      <td>158</td>\n",
       "      <td>0</td>\n",
       "      <td>0</td>\n",
       "      <td>0</td>\n",
       "      <td>0</td>\n",
       "      <td>4053.0</td>\n",
       "    </tr>\n",
       "    <tr>\n",
       "      <th>4</th>\n",
       "      <td>09-01-2020</td>\n",
       "      <td>9/30/2020</td>\n",
       "      <td>35</td>\n",
       "      <td>1</td>\n",
       "      <td>34</td>\n",
       "      <td>192</td>\n",
       "      <td>0</td>\n",
       "      <td>0</td>\n",
       "      <td>0</td>\n",
       "      <td>0</td>\n",
       "      <td>5153.0</td>\n",
       "    </tr>\n",
       "  </tbody>\n",
       "</table>\n",
       "</div>"
      ],
      "text/plain": [
       "  period_start period_end  followers_gained  followers_lost  followers_net  \\\n",
       "0   05-01-2020  5/31/2020                 1               0              1   \n",
       "1   06-01-2020  6/30/2020                 8               0              8   \n",
       "2   07-01-2020  7/31/2020               103               0            103   \n",
       "3   08-01-2020  8/31/2020                46               0             46   \n",
       "4   09-01-2020  9/30/2020                35               1             34   \n",
       "\n",
       "   followers_total  subscribers_gained  subscribers_lost  subscribers_net  \\\n",
       "0                1                   0                 0                0   \n",
       "1                9                   0                 0                0   \n",
       "2              112                   0                 0                0   \n",
       "3              158                   0                 0                0   \n",
       "4              192                   0                 0                0   \n",
       "\n",
       "   subscribers_total    views  \n",
       "0                  0    128.0  \n",
       "1                  0  16130.0  \n",
       "2                  0  14616.0  \n",
       "3                  0   4053.0  \n",
       "4                  0   5153.0  "
      ]
     },
     "execution_count": 4,
     "metadata": {},
     "output_type": "execute_result"
    }
   ],
   "source": [
    "df.head()"
   ]
  },
  {
   "cell_type": "code",
   "execution_count": 5,
   "id": "82aaa147",
   "metadata": {},
   "outputs": [
    {
     "data": {
      "text/html": [
       "<div>\n",
       "<style scoped>\n",
       "    .dataframe tbody tr th:only-of-type {\n",
       "        vertical-align: middle;\n",
       "    }\n",
       "\n",
       "    .dataframe tbody tr th {\n",
       "        vertical-align: top;\n",
       "    }\n",
       "\n",
       "    .dataframe thead th {\n",
       "        text-align: right;\n",
       "    }\n",
       "</style>\n",
       "<table border=\"1\" class=\"dataframe\">\n",
       "  <thead>\n",
       "    <tr style=\"text-align: right;\">\n",
       "      <th></th>\n",
       "      <th>period_start</th>\n",
       "      <th>period_end</th>\n",
       "      <th>followers_gained</th>\n",
       "      <th>followers_lost</th>\n",
       "      <th>followers_net</th>\n",
       "      <th>followers_total</th>\n",
       "      <th>subscribers_gained</th>\n",
       "      <th>subscribers_lost</th>\n",
       "      <th>subscribers_net</th>\n",
       "      <th>subscribers_total</th>\n",
       "      <th>views</th>\n",
       "    </tr>\n",
       "  </thead>\n",
       "  <tbody>\n",
       "    <tr>\n",
       "      <th>11</th>\n",
       "      <td>04-01-2021</td>\n",
       "      <td>4/30/2021</td>\n",
       "      <td>454</td>\n",
       "      <td>2</td>\n",
       "      <td>452</td>\n",
       "      <td>2807</td>\n",
       "      <td>8</td>\n",
       "      <td>0</td>\n",
       "      <td>8</td>\n",
       "      <td>45</td>\n",
       "      <td>134765.0</td>\n",
       "    </tr>\n",
       "    <tr>\n",
       "      <th>12</th>\n",
       "      <td>05-01-2021</td>\n",
       "      <td>5/31/2021</td>\n",
       "      <td>462</td>\n",
       "      <td>7</td>\n",
       "      <td>455</td>\n",
       "      <td>3262</td>\n",
       "      <td>6</td>\n",
       "      <td>0</td>\n",
       "      <td>6</td>\n",
       "      <td>51</td>\n",
       "      <td>167608.0</td>\n",
       "    </tr>\n",
       "    <tr>\n",
       "      <th>13</th>\n",
       "      <td>06-01-2021</td>\n",
       "      <td>6/30/2021</td>\n",
       "      <td>595</td>\n",
       "      <td>3</td>\n",
       "      <td>592</td>\n",
       "      <td>3854</td>\n",
       "      <td>5</td>\n",
       "      <td>0</td>\n",
       "      <td>5</td>\n",
       "      <td>56</td>\n",
       "      <td>154235.0</td>\n",
       "    </tr>\n",
       "    <tr>\n",
       "      <th>14</th>\n",
       "      <td>07-01-2021</td>\n",
       "      <td>7/31/2021</td>\n",
       "      <td>541</td>\n",
       "      <td>5</td>\n",
       "      <td>536</td>\n",
       "      <td>4390</td>\n",
       "      <td>20</td>\n",
       "      <td>6</td>\n",
       "      <td>14</td>\n",
       "      <td>70</td>\n",
       "      <td>144167.0</td>\n",
       "    </tr>\n",
       "    <tr>\n",
       "      <th>15</th>\n",
       "      <td>08-01-2021</td>\n",
       "      <td>8/31/2021</td>\n",
       "      <td>57</td>\n",
       "      <td>0</td>\n",
       "      <td>57</td>\n",
       "      <td>4447</td>\n",
       "      <td>6</td>\n",
       "      <td>2</td>\n",
       "      <td>4</td>\n",
       "      <td>74</td>\n",
       "      <td>NaN</td>\n",
       "    </tr>\n",
       "  </tbody>\n",
       "</table>\n",
       "</div>"
      ],
      "text/plain": [
       "   period_start period_end  followers_gained  followers_lost  followers_net  \\\n",
       "11   04-01-2021  4/30/2021               454               2            452   \n",
       "12   05-01-2021  5/31/2021               462               7            455   \n",
       "13   06-01-2021  6/30/2021               595               3            592   \n",
       "14   07-01-2021  7/31/2021               541               5            536   \n",
       "15   08-01-2021  8/31/2021                57               0             57   \n",
       "\n",
       "    followers_total  subscribers_gained  subscribers_lost  subscribers_net  \\\n",
       "11             2807                   8                 0                8   \n",
       "12             3262                   6                 0                6   \n",
       "13             3854                   5                 0                5   \n",
       "14             4390                  20                 6               14   \n",
       "15             4447                   6                 2                4   \n",
       "\n",
       "    subscribers_total     views  \n",
       "11                 45  134765.0  \n",
       "12                 51  167608.0  \n",
       "13                 56  154235.0  \n",
       "14                 70  144167.0  \n",
       "15                 74       NaN  "
      ]
     },
     "execution_count": 5,
     "metadata": {},
     "output_type": "execute_result"
    }
   ],
   "source": [
    "df.tail()"
   ]
  },
  {
   "cell_type": "markdown",
   "id": "79d2c6f2",
   "metadata": {},
   "source": [
    "# Shape of the dataset"
   ]
  },
  {
   "cell_type": "code",
   "execution_count": 6,
   "id": "70dd5420",
   "metadata": {},
   "outputs": [
    {
     "data": {
      "text/plain": [
       "(16, 11)"
      ]
     },
     "execution_count": 6,
     "metadata": {},
     "output_type": "execute_result"
    }
   ],
   "source": [
    "df.shape"
   ]
  },
  {
   "cell_type": "markdown",
   "id": "7b6bc5e0",
   "metadata": {},
   "source": [
    "# All information about the dataset"
   ]
  },
  {
   "cell_type": "code",
   "execution_count": 7,
   "id": "0a76bee6",
   "metadata": {},
   "outputs": [
    {
     "name": "stdout",
     "output_type": "stream",
     "text": [
      "<class 'pandas.core.frame.DataFrame'>\n",
      "RangeIndex: 16 entries, 0 to 15\n",
      "Data columns (total 11 columns):\n",
      " #   Column              Non-Null Count  Dtype  \n",
      "---  ------              --------------  -----  \n",
      " 0   period_start        16 non-null     object \n",
      " 1   period_end          16 non-null     object \n",
      " 2   followers_gained    16 non-null     int64  \n",
      " 3   followers_lost      16 non-null     int64  \n",
      " 4   followers_net       16 non-null     int64  \n",
      " 5   followers_total     16 non-null     int64  \n",
      " 6   subscribers_gained  16 non-null     int64  \n",
      " 7   subscribers_lost    16 non-null     int64  \n",
      " 8   subscribers_net     16 non-null     int64  \n",
      " 9   subscribers_total   16 non-null     int64  \n",
      " 10  views               15 non-null     float64\n",
      "dtypes: float64(1), int64(8), object(2)\n",
      "memory usage: 1.5+ KB\n"
     ]
    }
   ],
   "source": [
    "df.info()"
   ]
  },
  {
   "cell_type": "code",
   "execution_count": 8,
   "id": "9746419e",
   "metadata": {},
   "outputs": [
    {
     "data": {
      "text/html": [
       "<div>\n",
       "<style scoped>\n",
       "    .dataframe tbody tr th:only-of-type {\n",
       "        vertical-align: middle;\n",
       "    }\n",
       "\n",
       "    .dataframe tbody tr th {\n",
       "        vertical-align: top;\n",
       "    }\n",
       "\n",
       "    .dataframe thead th {\n",
       "        text-align: right;\n",
       "    }\n",
       "</style>\n",
       "<table border=\"1\" class=\"dataframe\">\n",
       "  <thead>\n",
       "    <tr style=\"text-align: right;\">\n",
       "      <th></th>\n",
       "      <th>followers_gained</th>\n",
       "      <th>followers_lost</th>\n",
       "      <th>followers_net</th>\n",
       "      <th>followers_total</th>\n",
       "      <th>subscribers_gained</th>\n",
       "      <th>subscribers_lost</th>\n",
       "      <th>subscribers_net</th>\n",
       "      <th>subscribers_total</th>\n",
       "      <th>views</th>\n",
       "    </tr>\n",
       "  </thead>\n",
       "  <tbody>\n",
       "    <tr>\n",
       "      <th>count</th>\n",
       "      <td>16.000000</td>\n",
       "      <td>16.000000</td>\n",
       "      <td>16.0000</td>\n",
       "      <td>16.000000</td>\n",
       "      <td>16.000000</td>\n",
       "      <td>16.000000</td>\n",
       "      <td>16.000000</td>\n",
       "      <td>16.000000</td>\n",
       "      <td>15.000000</td>\n",
       "    </tr>\n",
       "    <tr>\n",
       "      <th>mean</th>\n",
       "      <td>279.375000</td>\n",
       "      <td>1.437500</td>\n",
       "      <td>277.9375</td>\n",
       "      <td>1664.437500</td>\n",
       "      <td>5.375000</td>\n",
       "      <td>0.750000</td>\n",
       "      <td>4.625000</td>\n",
       "      <td>25.312500</td>\n",
       "      <td>73718.733333</td>\n",
       "    </tr>\n",
       "    <tr>\n",
       "      <th>std</th>\n",
       "      <td>254.171301</td>\n",
       "      <td>2.032035</td>\n",
       "      <td>252.9826</td>\n",
       "      <td>1652.388896</td>\n",
       "      <td>5.783597</td>\n",
       "      <td>1.570563</td>\n",
       "      <td>4.674398</td>\n",
       "      <td>27.150737</td>\n",
       "      <td>61012.405946</td>\n",
       "    </tr>\n",
       "    <tr>\n",
       "      <th>min</th>\n",
       "      <td>1.000000</td>\n",
       "      <td>0.000000</td>\n",
       "      <td>1.0000</td>\n",
       "      <td>1.000000</td>\n",
       "      <td>0.000000</td>\n",
       "      <td>0.000000</td>\n",
       "      <td>0.000000</td>\n",
       "      <td>0.000000</td>\n",
       "      <td>128.000000</td>\n",
       "    </tr>\n",
       "    <tr>\n",
       "      <th>25%</th>\n",
       "      <td>43.250000</td>\n",
       "      <td>0.000000</td>\n",
       "      <td>43.0000</td>\n",
       "      <td>183.500000</td>\n",
       "      <td>0.000000</td>\n",
       "      <td>0.000000</td>\n",
       "      <td>0.000000</td>\n",
       "      <td>0.000000</td>\n",
       "      <td>15322.500000</td>\n",
       "    </tr>\n",
       "    <tr>\n",
       "      <th>50%</th>\n",
       "      <td>264.000000</td>\n",
       "      <td>1.000000</td>\n",
       "      <td>263.5000</td>\n",
       "      <td>1161.500000</td>\n",
       "      <td>5.500000</td>\n",
       "      <td>0.000000</td>\n",
       "      <td>4.500000</td>\n",
       "      <td>18.500000</td>\n",
       "      <td>76322.000000</td>\n",
       "    </tr>\n",
       "    <tr>\n",
       "      <th>75%</th>\n",
       "      <td>456.000000</td>\n",
       "      <td>2.000000</td>\n",
       "      <td>452.7500</td>\n",
       "      <td>2920.750000</td>\n",
       "      <td>7.250000</td>\n",
       "      <td>1.000000</td>\n",
       "      <td>7.250000</td>\n",
       "      <td>46.500000</td>\n",
       "      <td>121863.500000</td>\n",
       "    </tr>\n",
       "    <tr>\n",
       "      <th>max</th>\n",
       "      <td>826.000000</td>\n",
       "      <td>7.000000</td>\n",
       "      <td>825.0000</td>\n",
       "      <td>4447.000000</td>\n",
       "      <td>20.000000</td>\n",
       "      <td>6.000000</td>\n",
       "      <td>14.000000</td>\n",
       "      <td>74.000000</td>\n",
       "      <td>167608.000000</td>\n",
       "    </tr>\n",
       "  </tbody>\n",
       "</table>\n",
       "</div>"
      ],
      "text/plain": [
       "       followers_gained  followers_lost  followers_net  followers_total  \\\n",
       "count         16.000000       16.000000        16.0000        16.000000   \n",
       "mean         279.375000        1.437500       277.9375      1664.437500   \n",
       "std          254.171301        2.032035       252.9826      1652.388896   \n",
       "min            1.000000        0.000000         1.0000         1.000000   \n",
       "25%           43.250000        0.000000        43.0000       183.500000   \n",
       "50%          264.000000        1.000000       263.5000      1161.500000   \n",
       "75%          456.000000        2.000000       452.7500      2920.750000   \n",
       "max          826.000000        7.000000       825.0000      4447.000000   \n",
       "\n",
       "       subscribers_gained  subscribers_lost  subscribers_net  \\\n",
       "count           16.000000         16.000000        16.000000   \n",
       "mean             5.375000          0.750000         4.625000   \n",
       "std              5.783597          1.570563         4.674398   \n",
       "min              0.000000          0.000000         0.000000   \n",
       "25%              0.000000          0.000000         0.000000   \n",
       "50%              5.500000          0.000000         4.500000   \n",
       "75%              7.250000          1.000000         7.250000   \n",
       "max             20.000000          6.000000        14.000000   \n",
       "\n",
       "       subscribers_total          views  \n",
       "count          16.000000      15.000000  \n",
       "mean           25.312500   73718.733333  \n",
       "std            27.150737   61012.405946  \n",
       "min             0.000000     128.000000  \n",
       "25%             0.000000   15322.500000  \n",
       "50%            18.500000   76322.000000  \n",
       "75%            46.500000  121863.500000  \n",
       "max            74.000000  167608.000000  "
      ]
     },
     "execution_count": 8,
     "metadata": {},
     "output_type": "execute_result"
    }
   ],
   "source": [
    "df.describe()"
   ]
  },
  {
   "cell_type": "code",
   "execution_count": 9,
   "id": "417b7f39",
   "metadata": {},
   "outputs": [
    {
     "data": {
      "text/html": [
       "<div>\n",
       "<style scoped>\n",
       "    .dataframe tbody tr th:only-of-type {\n",
       "        vertical-align: middle;\n",
       "    }\n",
       "\n",
       "    .dataframe tbody tr th {\n",
       "        vertical-align: top;\n",
       "    }\n",
       "\n",
       "    .dataframe thead th {\n",
       "        text-align: right;\n",
       "    }\n",
       "</style>\n",
       "<table border=\"1\" class=\"dataframe\">\n",
       "  <thead>\n",
       "    <tr style=\"text-align: right;\">\n",
       "      <th></th>\n",
       "      <th>period_start</th>\n",
       "      <th>period_end</th>\n",
       "      <th>followers_gained</th>\n",
       "      <th>followers_lost</th>\n",
       "      <th>followers_net</th>\n",
       "      <th>followers_total</th>\n",
       "      <th>subscribers_gained</th>\n",
       "      <th>subscribers_lost</th>\n",
       "      <th>subscribers_net</th>\n",
       "      <th>subscribers_total</th>\n",
       "      <th>views</th>\n",
       "    </tr>\n",
       "  </thead>\n",
       "  <tbody>\n",
       "    <tr>\n",
       "      <th>count</th>\n",
       "      <td>16</td>\n",
       "      <td>16</td>\n",
       "      <td>16.000000</td>\n",
       "      <td>16.000000</td>\n",
       "      <td>16.0000</td>\n",
       "      <td>16.000000</td>\n",
       "      <td>16.000000</td>\n",
       "      <td>16.000000</td>\n",
       "      <td>16.000000</td>\n",
       "      <td>16.000000</td>\n",
       "      <td>15.000000</td>\n",
       "    </tr>\n",
       "    <tr>\n",
       "      <th>unique</th>\n",
       "      <td>16</td>\n",
       "      <td>16</td>\n",
       "      <td>NaN</td>\n",
       "      <td>NaN</td>\n",
       "      <td>NaN</td>\n",
       "      <td>NaN</td>\n",
       "      <td>NaN</td>\n",
       "      <td>NaN</td>\n",
       "      <td>NaN</td>\n",
       "      <td>NaN</td>\n",
       "      <td>NaN</td>\n",
       "    </tr>\n",
       "    <tr>\n",
       "      <th>top</th>\n",
       "      <td>05-01-2020</td>\n",
       "      <td>5/31/2020</td>\n",
       "      <td>NaN</td>\n",
       "      <td>NaN</td>\n",
       "      <td>NaN</td>\n",
       "      <td>NaN</td>\n",
       "      <td>NaN</td>\n",
       "      <td>NaN</td>\n",
       "      <td>NaN</td>\n",
       "      <td>NaN</td>\n",
       "      <td>NaN</td>\n",
       "    </tr>\n",
       "    <tr>\n",
       "      <th>freq</th>\n",
       "      <td>1</td>\n",
       "      <td>1</td>\n",
       "      <td>NaN</td>\n",
       "      <td>NaN</td>\n",
       "      <td>NaN</td>\n",
       "      <td>NaN</td>\n",
       "      <td>NaN</td>\n",
       "      <td>NaN</td>\n",
       "      <td>NaN</td>\n",
       "      <td>NaN</td>\n",
       "      <td>NaN</td>\n",
       "    </tr>\n",
       "    <tr>\n",
       "      <th>mean</th>\n",
       "      <td>NaN</td>\n",
       "      <td>NaN</td>\n",
       "      <td>279.375000</td>\n",
       "      <td>1.437500</td>\n",
       "      <td>277.9375</td>\n",
       "      <td>1664.437500</td>\n",
       "      <td>5.375000</td>\n",
       "      <td>0.750000</td>\n",
       "      <td>4.625000</td>\n",
       "      <td>25.312500</td>\n",
       "      <td>73718.733333</td>\n",
       "    </tr>\n",
       "    <tr>\n",
       "      <th>std</th>\n",
       "      <td>NaN</td>\n",
       "      <td>NaN</td>\n",
       "      <td>254.171301</td>\n",
       "      <td>2.032035</td>\n",
       "      <td>252.9826</td>\n",
       "      <td>1652.388896</td>\n",
       "      <td>5.783597</td>\n",
       "      <td>1.570563</td>\n",
       "      <td>4.674398</td>\n",
       "      <td>27.150737</td>\n",
       "      <td>61012.405946</td>\n",
       "    </tr>\n",
       "    <tr>\n",
       "      <th>min</th>\n",
       "      <td>NaN</td>\n",
       "      <td>NaN</td>\n",
       "      <td>1.000000</td>\n",
       "      <td>0.000000</td>\n",
       "      <td>1.0000</td>\n",
       "      <td>1.000000</td>\n",
       "      <td>0.000000</td>\n",
       "      <td>0.000000</td>\n",
       "      <td>0.000000</td>\n",
       "      <td>0.000000</td>\n",
       "      <td>128.000000</td>\n",
       "    </tr>\n",
       "    <tr>\n",
       "      <th>25%</th>\n",
       "      <td>NaN</td>\n",
       "      <td>NaN</td>\n",
       "      <td>43.250000</td>\n",
       "      <td>0.000000</td>\n",
       "      <td>43.0000</td>\n",
       "      <td>183.500000</td>\n",
       "      <td>0.000000</td>\n",
       "      <td>0.000000</td>\n",
       "      <td>0.000000</td>\n",
       "      <td>0.000000</td>\n",
       "      <td>15322.500000</td>\n",
       "    </tr>\n",
       "    <tr>\n",
       "      <th>50%</th>\n",
       "      <td>NaN</td>\n",
       "      <td>NaN</td>\n",
       "      <td>264.000000</td>\n",
       "      <td>1.000000</td>\n",
       "      <td>263.5000</td>\n",
       "      <td>1161.500000</td>\n",
       "      <td>5.500000</td>\n",
       "      <td>0.000000</td>\n",
       "      <td>4.500000</td>\n",
       "      <td>18.500000</td>\n",
       "      <td>76322.000000</td>\n",
       "    </tr>\n",
       "    <tr>\n",
       "      <th>75%</th>\n",
       "      <td>NaN</td>\n",
       "      <td>NaN</td>\n",
       "      <td>456.000000</td>\n",
       "      <td>2.000000</td>\n",
       "      <td>452.7500</td>\n",
       "      <td>2920.750000</td>\n",
       "      <td>7.250000</td>\n",
       "      <td>1.000000</td>\n",
       "      <td>7.250000</td>\n",
       "      <td>46.500000</td>\n",
       "      <td>121863.500000</td>\n",
       "    </tr>\n",
       "    <tr>\n",
       "      <th>max</th>\n",
       "      <td>NaN</td>\n",
       "      <td>NaN</td>\n",
       "      <td>826.000000</td>\n",
       "      <td>7.000000</td>\n",
       "      <td>825.0000</td>\n",
       "      <td>4447.000000</td>\n",
       "      <td>20.000000</td>\n",
       "      <td>6.000000</td>\n",
       "      <td>14.000000</td>\n",
       "      <td>74.000000</td>\n",
       "      <td>167608.000000</td>\n",
       "    </tr>\n",
       "  </tbody>\n",
       "</table>\n",
       "</div>"
      ],
      "text/plain": [
       "       period_start period_end  followers_gained  followers_lost  \\\n",
       "count            16         16         16.000000       16.000000   \n",
       "unique           16         16               NaN             NaN   \n",
       "top      05-01-2020  5/31/2020               NaN             NaN   \n",
       "freq              1          1               NaN             NaN   \n",
       "mean            NaN        NaN        279.375000        1.437500   \n",
       "std             NaN        NaN        254.171301        2.032035   \n",
       "min             NaN        NaN          1.000000        0.000000   \n",
       "25%             NaN        NaN         43.250000        0.000000   \n",
       "50%             NaN        NaN        264.000000        1.000000   \n",
       "75%             NaN        NaN        456.000000        2.000000   \n",
       "max             NaN        NaN        826.000000        7.000000   \n",
       "\n",
       "        followers_net  followers_total  subscribers_gained  subscribers_lost  \\\n",
       "count         16.0000        16.000000           16.000000         16.000000   \n",
       "unique            NaN              NaN                 NaN               NaN   \n",
       "top               NaN              NaN                 NaN               NaN   \n",
       "freq              NaN              NaN                 NaN               NaN   \n",
       "mean         277.9375      1664.437500            5.375000          0.750000   \n",
       "std          252.9826      1652.388896            5.783597          1.570563   \n",
       "min            1.0000         1.000000            0.000000          0.000000   \n",
       "25%           43.0000       183.500000            0.000000          0.000000   \n",
       "50%          263.5000      1161.500000            5.500000          0.000000   \n",
       "75%          452.7500      2920.750000            7.250000          1.000000   \n",
       "max          825.0000      4447.000000           20.000000          6.000000   \n",
       "\n",
       "        subscribers_net  subscribers_total          views  \n",
       "count         16.000000          16.000000      15.000000  \n",
       "unique              NaN                NaN            NaN  \n",
       "top                 NaN                NaN            NaN  \n",
       "freq                NaN                NaN            NaN  \n",
       "mean           4.625000          25.312500   73718.733333  \n",
       "std            4.674398          27.150737   61012.405946  \n",
       "min            0.000000           0.000000     128.000000  \n",
       "25%            0.000000           0.000000   15322.500000  \n",
       "50%            4.500000          18.500000   76322.000000  \n",
       "75%            7.250000          46.500000  121863.500000  \n",
       "max           14.000000          74.000000  167608.000000  "
      ]
     },
     "execution_count": 9,
     "metadata": {},
     "output_type": "execute_result"
    }
   ],
   "source": [
    "df.describe(include=\"all\")"
   ]
  },
  {
   "cell_type": "markdown",
   "id": "9fe5f78b",
   "metadata": {},
   "source": [
    "# All columns name"
   ]
  },
  {
   "cell_type": "code",
   "execution_count": 10,
   "id": "ac705273",
   "metadata": {},
   "outputs": [
    {
     "data": {
      "text/plain": [
       "Index(['period_start', 'period_end', 'followers_gained', 'followers_lost',\n",
       "       'followers_net', 'followers_total', 'subscribers_gained',\n",
       "       'subscribers_lost', 'subscribers_net', 'subscribers_total', 'views'],\n",
       "      dtype='object')"
      ]
     },
     "execution_count": 10,
     "metadata": {},
     "output_type": "execute_result"
    }
   ],
   "source": [
    "df.columns"
   ]
  },
  {
   "cell_type": "code",
   "execution_count": 11,
   "id": "c348b73f",
   "metadata": {},
   "outputs": [
    {
     "data": {
      "text/plain": [
       "11"
      ]
     },
     "execution_count": 11,
     "metadata": {},
     "output_type": "execute_result"
    }
   ],
   "source": [
    "len(df.columns)"
   ]
  },
  {
   "cell_type": "markdown",
   "id": "6f3c2c34",
   "metadata": {},
   "source": [
    "# Checking for null values"
   ]
  },
  {
   "cell_type": "code",
   "execution_count": 12,
   "id": "c0399bdd",
   "metadata": {},
   "outputs": [
    {
     "data": {
      "text/plain": [
       "period_start          False\n",
       "period_end            False\n",
       "followers_gained      False\n",
       "followers_lost        False\n",
       "followers_net         False\n",
       "followers_total       False\n",
       "subscribers_gained    False\n",
       "subscribers_lost      False\n",
       "subscribers_net       False\n",
       "subscribers_total     False\n",
       "views                  True\n",
       "dtype: bool"
      ]
     },
     "execution_count": 12,
     "metadata": {},
     "output_type": "execute_result"
    }
   ],
   "source": [
    "df.isnull().any()"
   ]
  },
  {
   "cell_type": "code",
   "execution_count": 13,
   "id": "4e2beafb",
   "metadata": {},
   "outputs": [
    {
     "data": {
      "text/plain": [
       "period_start          0\n",
       "period_end            0\n",
       "followers_gained      0\n",
       "followers_lost        0\n",
       "followers_net         0\n",
       "followers_total       0\n",
       "subscribers_gained    0\n",
       "subscribers_lost      0\n",
       "subscribers_net       0\n",
       "subscribers_total     0\n",
       "views                 1\n",
       "dtype: int64"
      ]
     },
     "execution_count": 13,
     "metadata": {},
     "output_type": "execute_result"
    }
   ],
   "source": [
    "df.isnull().sum(axis=0)#Column wise"
   ]
  },
  {
   "cell_type": "code",
   "execution_count": 14,
   "id": "b07d0a1d",
   "metadata": {},
   "outputs": [
    {
     "data": {
      "text/plain": [
       "0     0\n",
       "1     0\n",
       "2     0\n",
       "3     0\n",
       "4     0\n",
       "5     0\n",
       "6     0\n",
       "7     0\n",
       "8     0\n",
       "9     0\n",
       "10    0\n",
       "11    0\n",
       "12    0\n",
       "13    0\n",
       "14    0\n",
       "15    1\n",
       "dtype: int64"
      ]
     },
     "execution_count": 14,
     "metadata": {},
     "output_type": "execute_result"
    }
   ],
   "source": [
    "df.isnull().sum(axis=1)#row wise"
   ]
  },
  {
   "cell_type": "markdown",
   "id": "60096ea0",
   "metadata": {},
   "source": [
    "# Replacing null values with 0"
   ]
  },
  {
   "cell_type": "code",
   "execution_count": 15,
   "id": "b9e11164",
   "metadata": {},
   "outputs": [],
   "source": [
    "df['views'].fillna(0,inplace=True)"
   ]
  },
  {
   "cell_type": "code",
   "execution_count": 16,
   "id": "5833d7e2",
   "metadata": {},
   "outputs": [
    {
     "data": {
      "text/plain": [
       "period_start          0\n",
       "period_end            0\n",
       "followers_gained      0\n",
       "followers_lost        0\n",
       "followers_net         0\n",
       "followers_total       0\n",
       "subscribers_gained    0\n",
       "subscribers_lost      0\n",
       "subscribers_net       0\n",
       "subscribers_total     0\n",
       "views                 0\n",
       "dtype: int64"
      ]
     },
     "execution_count": 16,
     "metadata": {},
     "output_type": "execute_result"
    }
   ],
   "source": [
    "df.isnull().sum()"
   ]
  },
  {
   "cell_type": "code",
   "execution_count": 17,
   "id": "42ebe68a",
   "metadata": {},
   "outputs": [
    {
     "data": {
      "text/plain": [
       "<AxesSubplot:>"
      ]
     },
     "execution_count": 17,
     "metadata": {},
     "output_type": "execute_result"
    },
    {
     "data": {
      "image/png": "[encoded data removed]",
      "text/plain": [
       "<Figure size 640x480 with 2 Axes>"
      ]
     },
     "metadata": {},
     "output_type": "display_data"
    }
   ],
   "source": [
    "sns.heatmap(df.isnull())"
   ]
  },
  {
   "cell_type": "markdown",
   "id": "eeadcd36",
   "metadata": {},
   "source": [
    "# checking fir duplicated values"
   ]
  },
  {
   "cell_type": "code",
   "execution_count": 18,
   "id": "e4fde167",
   "metadata": {},
   "outputs": [
    {
     "name": "stdout",
     "output_type": "stream",
     "text": [
      "False\n"
     ]
    }
   ],
   "source": [
    "dup=df.duplicated().any()\n",
    "print(dup)"
   ]
  },
  {
   "cell_type": "markdown",
   "id": "c5f4dc63",
   "metadata": {},
   "source": [
    "# deatils of the dataset when maximum followers_net obtained"
   ]
  },
  {
   "cell_type": "code",
   "execution_count": 19,
   "id": "8ecad6bc",
   "metadata": {},
   "outputs": [
    {
     "data": {
      "text/plain": [
       "825"
      ]
     },
     "execution_count": 19,
     "metadata": {},
     "output_type": "execute_result"
    }
   ],
   "source": [
    "df[\"followers_net\"].max()"
   ]
  },
  {
   "cell_type": "code",
   "execution_count": 20,
   "id": "0ef239e6",
   "metadata": {},
   "outputs": [
    {
     "data": {
      "text/html": [
       "<div>\n",
       "<style scoped>\n",
       "    .dataframe tbody tr th:only-of-type {\n",
       "        vertical-align: middle;\n",
       "    }\n",
       "\n",
       "    .dataframe tbody tr th {\n",
       "        vertical-align: top;\n",
       "    }\n",
       "\n",
       "    .dataframe thead th {\n",
       "        text-align: right;\n",
       "    }\n",
       "</style>\n",
       "<table border=\"1\" class=\"dataframe\">\n",
       "  <thead>\n",
       "    <tr style=\"text-align: right;\">\n",
       "      <th></th>\n",
       "      <th>period_start</th>\n",
       "      <th>period_end</th>\n",
       "      <th>followers_gained</th>\n",
       "      <th>followers_lost</th>\n",
       "      <th>followers_net</th>\n",
       "      <th>followers_total</th>\n",
       "      <th>subscribers_gained</th>\n",
       "      <th>subscribers_lost</th>\n",
       "      <th>subscribers_net</th>\n",
       "      <th>subscribers_total</th>\n",
       "      <th>views</th>\n",
       "    </tr>\n",
       "  </thead>\n",
       "  <tbody>\n",
       "    <tr>\n",
       "      <th>8</th>\n",
       "      <td>01-01-2021</td>\n",
       "      <td>1/31/2021</td>\n",
       "      <td>826</td>\n",
       "      <td>1</td>\n",
       "      <td>825</td>\n",
       "      <td>1574</td>\n",
       "      <td>14</td>\n",
       "      <td>1</td>\n",
       "      <td>13</td>\n",
       "      <td>25</td>\n",
       "      <td>108962.0</td>\n",
       "    </tr>\n",
       "  </tbody>\n",
       "</table>\n",
       "</div>"
      ],
      "text/plain": [
       "  period_start period_end  followers_gained  followers_lost  followers_net  \\\n",
       "8   01-01-2021  1/31/2021               826               1            825   \n",
       "\n",
       "   followers_total  subscribers_gained  subscribers_lost  subscribers_net  \\\n",
       "8             1574                  14                 1               13   \n",
       "\n",
       "   subscribers_total     views  \n",
       "8                 25  108962.0  "
      ]
     },
     "execution_count": 20,
     "metadata": {},
     "output_type": "execute_result"
    }
   ],
   "source": [
    "df[df['followers_net']==825]"
   ]
  },
  {
   "cell_type": "code",
   "execution_count": 21,
   "id": "816fd3f7",
   "metadata": {},
   "outputs": [
    {
     "data": {
      "text/html": [
       "<div>\n",
       "<style scoped>\n",
       "    .dataframe tbody tr th:only-of-type {\n",
       "        vertical-align: middle;\n",
       "    }\n",
       "\n",
       "    .dataframe tbody tr th {\n",
       "        vertical-align: top;\n",
       "    }\n",
       "\n",
       "    .dataframe thead th {\n",
       "        text-align: right;\n",
       "    }\n",
       "</style>\n",
       "<table border=\"1\" class=\"dataframe\">\n",
       "  <thead>\n",
       "    <tr style=\"text-align: right;\">\n",
       "      <th></th>\n",
       "      <th>period_start</th>\n",
       "      <th>period_end</th>\n",
       "      <th>followers_gained</th>\n",
       "      <th>followers_lost</th>\n",
       "      <th>followers_net</th>\n",
       "      <th>followers_total</th>\n",
       "      <th>subscribers_gained</th>\n",
       "      <th>subscribers_lost</th>\n",
       "      <th>subscribers_net</th>\n",
       "      <th>subscribers_total</th>\n",
       "      <th>views</th>\n",
       "    </tr>\n",
       "  </thead>\n",
       "  <tbody>\n",
       "    <tr>\n",
       "      <th>11</th>\n",
       "      <td>04-01-2021</td>\n",
       "      <td>4/30/2021</td>\n",
       "      <td>454</td>\n",
       "      <td>2</td>\n",
       "      <td>452</td>\n",
       "      <td>2807</td>\n",
       "      <td>8</td>\n",
       "      <td>0</td>\n",
       "      <td>8</td>\n",
       "      <td>45</td>\n",
       "      <td>134765.0</td>\n",
       "    </tr>\n",
       "    <tr>\n",
       "      <th>12</th>\n",
       "      <td>05-01-2021</td>\n",
       "      <td>5/31/2021</td>\n",
       "      <td>462</td>\n",
       "      <td>7</td>\n",
       "      <td>455</td>\n",
       "      <td>3262</td>\n",
       "      <td>6</td>\n",
       "      <td>0</td>\n",
       "      <td>6</td>\n",
       "      <td>51</td>\n",
       "      <td>167608.0</td>\n",
       "    </tr>\n",
       "    <tr>\n",
       "      <th>13</th>\n",
       "      <td>06-01-2021</td>\n",
       "      <td>6/30/2021</td>\n",
       "      <td>595</td>\n",
       "      <td>3</td>\n",
       "      <td>592</td>\n",
       "      <td>3854</td>\n",
       "      <td>5</td>\n",
       "      <td>0</td>\n",
       "      <td>5</td>\n",
       "      <td>56</td>\n",
       "      <td>154235.0</td>\n",
       "    </tr>\n",
       "    <tr>\n",
       "      <th>14</th>\n",
       "      <td>07-01-2021</td>\n",
       "      <td>7/31/2021</td>\n",
       "      <td>541</td>\n",
       "      <td>5</td>\n",
       "      <td>536</td>\n",
       "      <td>4390</td>\n",
       "      <td>20</td>\n",
       "      <td>6</td>\n",
       "      <td>14</td>\n",
       "      <td>70</td>\n",
       "      <td>144167.0</td>\n",
       "    </tr>\n",
       "    <tr>\n",
       "      <th>15</th>\n",
       "      <td>08-01-2021</td>\n",
       "      <td>8/31/2021</td>\n",
       "      <td>57</td>\n",
       "      <td>0</td>\n",
       "      <td>57</td>\n",
       "      <td>4447</td>\n",
       "      <td>6</td>\n",
       "      <td>2</td>\n",
       "      <td>4</td>\n",
       "      <td>74</td>\n",
       "      <td>0.0</td>\n",
       "    </tr>\n",
       "  </tbody>\n",
       "</table>\n",
       "</div>"
      ],
      "text/plain": [
       "   period_start period_end  followers_gained  followers_lost  followers_net  \\\n",
       "11   04-01-2021  4/30/2021               454               2            452   \n",
       "12   05-01-2021  5/31/2021               462               7            455   \n",
       "13   06-01-2021  6/30/2021               595               3            592   \n",
       "14   07-01-2021  7/31/2021               541               5            536   \n",
       "15   08-01-2021  8/31/2021                57               0             57   \n",
       "\n",
       "    followers_total  subscribers_gained  subscribers_lost  subscribers_net  \\\n",
       "11             2807                   8                 0                8   \n",
       "12             3262                   6                 0                6   \n",
       "13             3854                   5                 0                5   \n",
       "14             4390                  20                 6               14   \n",
       "15             4447                   6                 2                4   \n",
       "\n",
       "    subscribers_total     views  \n",
       "11                 45  134765.0  \n",
       "12                 51  167608.0  \n",
       "13                 56  154235.0  \n",
       "14                 70  144167.0  \n",
       "15                 74       0.0  "
      ]
     },
     "execution_count": 21,
     "metadata": {},
     "output_type": "execute_result"
    }
   ],
   "source": [
    "df.tail()"
   ]
  },
  {
   "cell_type": "markdown",
   "id": "74d480f2",
   "metadata": {},
   "source": [
    "# between which period of month the net subscriber is more? "
   ]
  },
  {
   "cell_type": "code",
   "execution_count": 22,
   "id": "866c73de",
   "metadata": {},
   "outputs": [
    {
     "data": {
      "text/plain": [
       "14"
      ]
     },
     "execution_count": 22,
     "metadata": {},
     "output_type": "execute_result"
    }
   ],
   "source": [
    "df[\"subscribers_net\"].max()"
   ]
  },
  {
   "cell_type": "code",
   "execution_count": 23,
   "id": "bd3bd3ad",
   "metadata": {},
   "outputs": [
    {
     "data": {
      "text/html": [
       "<div>\n",
       "<style scoped>\n",
       "    .dataframe tbody tr th:only-of-type {\n",
       "        vertical-align: middle;\n",
       "    }\n",
       "\n",
       "    .dataframe tbody tr th {\n",
       "        vertical-align: top;\n",
       "    }\n",
       "\n",
       "    .dataframe thead th {\n",
       "        text-align: right;\n",
       "    }\n",
       "</style>\n",
       "<table border=\"1\" class=\"dataframe\">\n",
       "  <thead>\n",
       "    <tr style=\"text-align: right;\">\n",
       "      <th></th>\n",
       "      <th>period_start</th>\n",
       "      <th>period_end</th>\n",
       "    </tr>\n",
       "  </thead>\n",
       "  <tbody>\n",
       "    <tr>\n",
       "      <th>14</th>\n",
       "      <td>07-01-2021</td>\n",
       "      <td>7/31/2021</td>\n",
       "    </tr>\n",
       "  </tbody>\n",
       "</table>\n",
       "</div>"
      ],
      "text/plain": [
       "   period_start period_end\n",
       "14   07-01-2021  7/31/2021"
      ]
     },
     "execution_count": 23,
     "metadata": {},
     "output_type": "execute_result"
    }
   ],
   "source": [
    "df[df[\"subscribers_net\"]==14][[\"period_start\",'period_end']]"
   ]
  },
  {
   "cell_type": "code",
   "execution_count": 24,
   "id": "1dc7d15e",
   "metadata": {},
   "outputs": [
    {
     "data": {
      "text/plain": [
       "(array([5., 2., 0., 1., 0., 1., 0., 2., 2., 1., 1., 0., 0., 0., 1.]),\n",
       " array([  1.,  56., 111., 166., 221., 276., 331., 386., 441., 496., 551.,\n",
       "        606., 661., 716., 771., 826.]),\n",
       " <BarContainer object of 15 artists>)"
      ]
     },
     "execution_count": 24,
     "metadata": {},
     "output_type": "execute_result"
    },
    {
     "data": {
      "image/png": "[encoded data removed]",
      "text/plain": [
       "<Figure size 640x480 with 1 Axes>"
      ]
     },
     "metadata": {},
     "output_type": "display_data"
    }
   ],
   "source": [
    "plt.hist(df[\"followers_gained\"],edgecolor=\"black\",bins=15)"
   ]
  },
  {
   "cell_type": "markdown",
   "id": "9d41f442",
   "metadata": {},
   "source": [
    "# Maximum views details"
   ]
  },
  {
   "cell_type": "code",
   "execution_count": 25,
   "id": "ce17ea85",
   "metadata": {},
   "outputs": [
    {
     "data": {
      "text/plain": [
       "167608.0"
      ]
     },
     "execution_count": 25,
     "metadata": {},
     "output_type": "execute_result"
    }
   ],
   "source": [
    "df['views'].max()"
   ]
  },
  {
   "cell_type": "code",
   "execution_count": 26,
   "id": "cb0df315",
   "metadata": {},
   "outputs": [
    {
     "data": {
      "text/html": [
       "<div>\n",
       "<style scoped>\n",
       "    .dataframe tbody tr th:only-of-type {\n",
       "        vertical-align: middle;\n",
       "    }\n",
       "\n",
       "    .dataframe tbody tr th {\n",
       "        vertical-align: top;\n",
       "    }\n",
       "\n",
       "    .dataframe thead th {\n",
       "        text-align: right;\n",
       "    }\n",
       "</style>\n",
       "<table border=\"1\" class=\"dataframe\">\n",
       "  <thead>\n",
       "    <tr style=\"text-align: right;\">\n",
       "      <th></th>\n",
       "      <th>period_start</th>\n",
       "      <th>period_end</th>\n",
       "      <th>followers_gained</th>\n",
       "      <th>followers_lost</th>\n",
       "      <th>followers_net</th>\n",
       "      <th>followers_total</th>\n",
       "      <th>subscribers_gained</th>\n",
       "      <th>subscribers_lost</th>\n",
       "      <th>subscribers_net</th>\n",
       "      <th>subscribers_total</th>\n",
       "      <th>views</th>\n",
       "    </tr>\n",
       "  </thead>\n",
       "  <tbody>\n",
       "    <tr>\n",
       "      <th>12</th>\n",
       "      <td>05-01-2021</td>\n",
       "      <td>5/31/2021</td>\n",
       "      <td>462</td>\n",
       "      <td>7</td>\n",
       "      <td>455</td>\n",
       "      <td>3262</td>\n",
       "      <td>6</td>\n",
       "      <td>0</td>\n",
       "      <td>6</td>\n",
       "      <td>51</td>\n",
       "      <td>167608.0</td>\n",
       "    </tr>\n",
       "  </tbody>\n",
       "</table>\n",
       "</div>"
      ],
      "text/plain": [
       "   period_start period_end  followers_gained  followers_lost  followers_net  \\\n",
       "12   05-01-2021  5/31/2021               462               7            455   \n",
       "\n",
       "    followers_total  subscribers_gained  subscribers_lost  subscribers_net  \\\n",
       "12             3262                   6                 0                6   \n",
       "\n",
       "    subscribers_total     views  \n",
       "12                 51  167608.0  "
      ]
     },
     "execution_count": 26,
     "metadata": {},
     "output_type": "execute_result"
    }
   ],
   "source": [
    "df[df['views']==167608.0]"
   ]
  },
  {
   "cell_type": "code",
   "execution_count": 27,
   "id": "94a122a8",
   "metadata": {},
   "outputs": [
    {
     "data": {
      "text/plain": [
       "[<matplotlib.lines.Line2D at 0x1b133d6fd00>]"
      ]
     },
     "execution_count": 27,
     "metadata": {},
     "output_type": "execute_result"
    },
    {
     "data": {
      "image/png": "[encoded data removed]",
      "text/plain": [
       "<Figure size 640x480 with 1 Axes>"
      ]
     },
     "metadata": {},
     "output_type": "display_data"
    }
   ],
   "source": [
    "plt.plot(df[\"followers_gained\"])"
   ]
  },
  {
   "cell_type": "code",
   "execution_count": 28,
   "id": "996b72b6",
   "metadata": {},
   "outputs": [
    {
     "data": {
      "text/plain": [
       "[<matplotlib.lines.Line2D at 0x1b133de1280>]"
      ]
     },
     "execution_count": 28,
     "metadata": {},
     "output_type": "execute_result"
    },
    {
     "data": {
      "image/png": "[encoded data removed]",
      "text/plain": [
       "<Figure size 640x480 with 1 Axes>"
      ]
     },
     "metadata": {},
     "output_type": "display_data"
    }
   ],
   "source": [
    "plt.plot(df['views'])"
   ]
  },
  {
   "cell_type": "markdown",
   "id": "4d85eb35",
   "metadata": {},
   "source": [
    "# Box plot of views column"
   ]
  },
  {
   "cell_type": "code",
   "execution_count": 29,
   "id": "df468b9a",
   "metadata": {},
   "outputs": [
    {
     "data": {
      "image/png": "[encoded data removed]",
      "text/plain": [
       "<Figure size 640x480 with 1 Axes>"
      ]
     },
     "metadata": {},
     "output_type": "display_data"
    }
   ],
   "source": [
    "plt.boxplot(df[\"views\"])\n",
    "plt.show()"
   ]
  },
  {
   "cell_type": "markdown",
   "id": "359b5e8b",
   "metadata": {},
   "source": [
    "# Linear Regression between \"subscribers_total\" and \"views\" "
   ]
  },
  {
   "cell_type": "code",
   "execution_count": 30,
   "id": "394c9fed",
   "metadata": {},
   "outputs": [
    {
     "name": "stderr",
     "output_type": "stream",
     "text": [
      "C:\\Users\\adity\\anaconda3\\lib\\site-packages\\seaborn\\_decorators.py:36: FutureWarning: Pass the following variables as keyword args: x, y. From version 0.12, the only valid positional argument will be `data`, and passing other arguments without an explicit keyword will result in an error or misinterpretation.\n",
      "  warnings.warn(\n"
     ]
    },
    {
     "data": {
      "image/png": "[encoded data removed]",
      "text/plain": [
       "<Figure size 640x480 with 1 Axes>"
      ]
     },
     "metadata": {},
     "output_type": "display_data"
    }
   ],
   "source": [
    "sns.regplot('subscribers_total', 'views', data=df)\n",
    " \n",
    "plt.show()"
   ]
  },
  {
   "cell_type": "code",
   "execution_count": 31,
   "id": "d687411b",
   "metadata": {},
   "outputs": [
    {
     "data": {
      "text/html": [
       "<div>\n",
       "<style scoped>\n",
       "    .dataframe tbody tr th:only-of-type {\n",
       "        vertical-align: middle;\n",
       "    }\n",
       "\n",
       "    .dataframe tbody tr th {\n",
       "        vertical-align: top;\n",
       "    }\n",
       "\n",
       "    .dataframe thead th {\n",
       "        text-align: right;\n",
       "    }\n",
       "</style>\n",
       "<table border=\"1\" class=\"dataframe\">\n",
       "  <thead>\n",
       "    <tr style=\"text-align: right;\">\n",
       "      <th></th>\n",
       "      <th>period_start</th>\n",
       "      <th>period_end</th>\n",
       "      <th>followers_gained</th>\n",
       "      <th>followers_lost</th>\n",
       "      <th>followers_net</th>\n",
       "      <th>followers_total</th>\n",
       "      <th>subscribers_gained</th>\n",
       "      <th>subscribers_lost</th>\n",
       "      <th>subscribers_net</th>\n",
       "      <th>subscribers_total</th>\n",
       "      <th>views</th>\n",
       "    </tr>\n",
       "  </thead>\n",
       "  <tbody>\n",
       "    <tr>\n",
       "      <th>0</th>\n",
       "      <td>05-01-2020</td>\n",
       "      <td>5/31/2020</td>\n",
       "      <td>1</td>\n",
       "      <td>0</td>\n",
       "      <td>1</td>\n",
       "      <td>1</td>\n",
       "      <td>0</td>\n",
       "      <td>0</td>\n",
       "      <td>0</td>\n",
       "      <td>0</td>\n",
       "      <td>128.0</td>\n",
       "    </tr>\n",
       "    <tr>\n",
       "      <th>1</th>\n",
       "      <td>06-01-2020</td>\n",
       "      <td>6/30/2020</td>\n",
       "      <td>8</td>\n",
       "      <td>0</td>\n",
       "      <td>8</td>\n",
       "      <td>9</td>\n",
       "      <td>0</td>\n",
       "      <td>0</td>\n",
       "      <td>0</td>\n",
       "      <td>0</td>\n",
       "      <td>16130.0</td>\n",
       "    </tr>\n",
       "    <tr>\n",
       "      <th>2</th>\n",
       "      <td>07-01-2020</td>\n",
       "      <td>7/31/2020</td>\n",
       "      <td>103</td>\n",
       "      <td>0</td>\n",
       "      <td>103</td>\n",
       "      <td>112</td>\n",
       "      <td>0</td>\n",
       "      <td>0</td>\n",
       "      <td>0</td>\n",
       "      <td>0</td>\n",
       "      <td>14616.0</td>\n",
       "    </tr>\n",
       "  </tbody>\n",
       "</table>\n",
       "</div>"
      ],
      "text/plain": [
       "  period_start period_end  followers_gained  followers_lost  followers_net  \\\n",
       "0   05-01-2020  5/31/2020                 1               0              1   \n",
       "1   06-01-2020  6/30/2020                 8               0              8   \n",
       "2   07-01-2020  7/31/2020               103               0            103   \n",
       "\n",
       "   followers_total  subscribers_gained  subscribers_lost  subscribers_net  \\\n",
       "0                1                   0                 0                0   \n",
       "1                9                   0                 0                0   \n",
       "2              112                   0                 0                0   \n",
       "\n",
       "   subscribers_total    views  \n",
       "0                  0    128.0  \n",
       "1                  0  16130.0  \n",
       "2                  0  14616.0  "
      ]
     },
     "execution_count": 31,
     "metadata": {},
     "output_type": "execute_result"
    }
   ],
   "source": [
    "df.head(3)"
   ]
  },
  {
   "cell_type": "markdown",
   "id": "8e62cb97",
   "metadata": {},
   "source": [
    "# Line plot of the dataset"
   ]
  },
  {
   "cell_type": "code",
   "execution_count": 32,
   "id": "5f221008",
   "metadata": {},
   "outputs": [
    {
     "data": {
      "text/plain": [
       "<AxesSubplot:>"
      ]
     },
     "execution_count": 32,
     "metadata": {},
     "output_type": "execute_result"
    },
    {
     "data": {
      "image/png": "[encoded data removed]",
      "text/plain": [
       "<Figure size 640x480 with 1 Axes>"
      ]
     },
     "metadata": {},
     "output_type": "display_data"
    }
   ],
   "source": [
    "df.plot(kind='line')"
   ]
  },
  {
   "cell_type": "code",
   "execution_count": 33,
   "id": "2bb2946c",
   "metadata": {},
   "outputs": [
    {
     "data": {
      "image/png": "[encoded data removed]",
      "text/plain": [
       "<Figure size 640x480 with 1 Axes>"
      ]
     },
     "metadata": {},
     "output_type": "display_data"
    }
   ],
   "source": [
    "x=df['followers_gained']\n",
    "y=df['followers_lost']\n",
    "plt.title(\"followers gained vs followers lost\")\n",
    "plt.xlabel(\"followers gained\")\n",
    "plt.ylabel(\"followers loss\")\n",
    "plt.plot(x,y)\n",
    "plt.grid()\n",
    "plt.show()"
   ]
  },
  {
   "cell_type": "markdown",
   "id": "151a6d9e",
   "metadata": {},
   "source": [
    "# Scatter plot between \"subscribers_gained\" and \"subscribers_lost\""
   ]
  },
  {
   "cell_type": "code",
   "execution_count": 34,
   "id": "855e64d8",
   "metadata": {},
   "outputs": [
    {
     "data": {
      "image/png": "[encoded data removed]",
      "text/plain": [
       "<Figure size 640x480 with 1 Axes>"
      ]
     },
     "metadata": {},
     "output_type": "display_data"
    }
   ],
   "source": [
    "x=df[\"subscribers_gained\"]\n",
    "y=df['subscribers_lost']\n",
    "plt.scatter(x,y)\n",
    "plt.show()\n"
   ]
  },
  {
   "cell_type": "code",
   "execution_count": 37,
   "id": "615a4f0d",
   "metadata": {},
   "outputs": [
    {
     "data": {
      "text/plain": [
       "[<matplotlib.lines.Line2D at 0x1b1354cf7c0>]"
      ]
     },
     "execution_count": 37,
     "metadata": {},
     "output_type": "execute_result"
    },
    {
     "data": {
      "image/png": "[encoded data removed]",
      "text/plain": [
       "<Figure size 640x480 with 2 Axes>"
      ]
     },
     "metadata": {},
     "output_type": "display_data"
    }
   ],
   "source": [
    "x=df[\"followers_total\"]\n",
    "y=df[\"views\"]\n",
    "plt.subplot(1,2,1)\n",
    "plt.plot(x,y)\n",
    "\n",
    "x=df[\"subscribers_total\"]\n",
    "y=df[\"views\"]\n",
    "plt.subplot(1,2,2)\n",
    "plt.plot(x,y)"
   ]
  },
  {
   "cell_type": "markdown",
   "id": "999d5303",
   "metadata": {},
   "source": [
    "# In between which period the subscribers_lost is 1"
   ]
  },
  {
   "cell_type": "code",
   "execution_count": 38,
   "id": "cc3e46f9",
   "metadata": {},
   "outputs": [
    {
     "data": {
      "text/html": [
       "<div>\n",
       "<style scoped>\n",
       "    .dataframe tbody tr th:only-of-type {\n",
       "        vertical-align: middle;\n",
       "    }\n",
       "\n",
       "    .dataframe tbody tr th {\n",
       "        vertical-align: top;\n",
       "    }\n",
       "\n",
       "    .dataframe thead th {\n",
       "        text-align: right;\n",
       "    }\n",
       "</style>\n",
       "<table border=\"1\" class=\"dataframe\">\n",
       "  <thead>\n",
       "    <tr style=\"text-align: right;\">\n",
       "      <th></th>\n",
       "      <th>period_start</th>\n",
       "      <th>period_end</th>\n",
       "    </tr>\n",
       "  </thead>\n",
       "  <tbody>\n",
       "    <tr>\n",
       "      <th>7</th>\n",
       "      <td>12-01-2020</td>\n",
       "      <td>12/31/2020</td>\n",
       "    </tr>\n",
       "    <tr>\n",
       "      <th>8</th>\n",
       "      <td>01-01-2021</td>\n",
       "      <td>1/31/2021</td>\n",
       "    </tr>\n",
       "  </tbody>\n",
       "</table>\n",
       "</div>"
      ],
      "text/plain": [
       "  period_start  period_end\n",
       "7   12-01-2020  12/31/2020\n",
       "8   01-01-2021   1/31/2021"
      ]
     },
     "execution_count": 38,
     "metadata": {},
     "output_type": "execute_result"
    }
   ],
   "source": [
    "df[df[\"subscribers_lost\"]==1][[\"period_start\",\"period_end\"]]"
   ]
  },
  {
   "cell_type": "markdown",
   "id": "d3e12250",
   "metadata": {},
   "source": [
    "# Find the record when the net followers are more than 500"
   ]
  },
  {
   "cell_type": "code",
   "execution_count": 39,
   "id": "28457333",
   "metadata": {},
   "outputs": [
    {
     "data": {
      "text/html": [
       "<div>\n",
       "<style scoped>\n",
       "    .dataframe tbody tr th:only-of-type {\n",
       "        vertical-align: middle;\n",
       "    }\n",
       "\n",
       "    .dataframe tbody tr th {\n",
       "        vertical-align: top;\n",
       "    }\n",
       "\n",
       "    .dataframe thead th {\n",
       "        text-align: right;\n",
       "    }\n",
       "</style>\n",
       "<table border=\"1\" class=\"dataframe\">\n",
       "  <thead>\n",
       "    <tr style=\"text-align: right;\">\n",
       "      <th></th>\n",
       "      <th>period_start</th>\n",
       "      <th>period_end</th>\n",
       "      <th>followers_gained</th>\n",
       "      <th>followers_lost</th>\n",
       "      <th>followers_net</th>\n",
       "      <th>followers_total</th>\n",
       "      <th>subscribers_gained</th>\n",
       "      <th>subscribers_lost</th>\n",
       "      <th>subscribers_net</th>\n",
       "      <th>subscribers_total</th>\n",
       "      <th>views</th>\n",
       "    </tr>\n",
       "  </thead>\n",
       "  <tbody>\n",
       "    <tr>\n",
       "      <th>8</th>\n",
       "      <td>01-01-2021</td>\n",
       "      <td>1/31/2021</td>\n",
       "      <td>826</td>\n",
       "      <td>1</td>\n",
       "      <td>825</td>\n",
       "      <td>1574</td>\n",
       "      <td>14</td>\n",
       "      <td>1</td>\n",
       "      <td>13</td>\n",
       "      <td>25</td>\n",
       "      <td>108962.0</td>\n",
       "    </tr>\n",
       "    <tr>\n",
       "      <th>13</th>\n",
       "      <td>06-01-2021</td>\n",
       "      <td>6/30/2021</td>\n",
       "      <td>595</td>\n",
       "      <td>3</td>\n",
       "      <td>592</td>\n",
       "      <td>3854</td>\n",
       "      <td>5</td>\n",
       "      <td>0</td>\n",
       "      <td>5</td>\n",
       "      <td>56</td>\n",
       "      <td>154235.0</td>\n",
       "    </tr>\n",
       "    <tr>\n",
       "      <th>14</th>\n",
       "      <td>07-01-2021</td>\n",
       "      <td>7/31/2021</td>\n",
       "      <td>541</td>\n",
       "      <td>5</td>\n",
       "      <td>536</td>\n",
       "      <td>4390</td>\n",
       "      <td>20</td>\n",
       "      <td>6</td>\n",
       "      <td>14</td>\n",
       "      <td>70</td>\n",
       "      <td>144167.0</td>\n",
       "    </tr>\n",
       "  </tbody>\n",
       "</table>\n",
       "</div>"
      ],
      "text/plain": [
       "   period_start period_end  followers_gained  followers_lost  followers_net  \\\n",
       "8    01-01-2021  1/31/2021               826               1            825   \n",
       "13   06-01-2021  6/30/2021               595               3            592   \n",
       "14   07-01-2021  7/31/2021               541               5            536   \n",
       "\n",
       "    followers_total  subscribers_gained  subscribers_lost  subscribers_net  \\\n",
       "8              1574                  14                 1               13   \n",
       "13             3854                   5                 0                5   \n",
       "14             4390                  20                 6               14   \n",
       "\n",
       "    subscribers_total     views  \n",
       "8                  25  108962.0  \n",
       "13                 56  154235.0  \n",
       "14                 70  144167.0  "
      ]
     },
     "execution_count": 39,
     "metadata": {},
     "output_type": "execute_result"
    }
   ],
   "source": [
    "df[df[\"followers_net\"]>=500]"
   ]
  },
  {
   "cell_type": "markdown",
   "id": "d4e7b9ba",
   "metadata": {},
   "source": [
    "# What are the no of records when followers lost is more than 5"
   ]
  },
  {
   "cell_type": "code",
   "execution_count": 41,
   "id": "23ee78ae",
   "metadata": {},
   "outputs": [
    {
     "data": {
      "text/html": [
       "<div>\n",
       "<style scoped>\n",
       "    .dataframe tbody tr th:only-of-type {\n",
       "        vertical-align: middle;\n",
       "    }\n",
       "\n",
       "    .dataframe tbody tr th {\n",
       "        vertical-align: top;\n",
       "    }\n",
       "\n",
       "    .dataframe thead th {\n",
       "        text-align: right;\n",
       "    }\n",
       "</style>\n",
       "<table border=\"1\" class=\"dataframe\">\n",
       "  <thead>\n",
       "    <tr style=\"text-align: right;\">\n",
       "      <th></th>\n",
       "      <th>period_start</th>\n",
       "      <th>period_end</th>\n",
       "      <th>followers_gained</th>\n",
       "      <th>followers_lost</th>\n",
       "      <th>followers_net</th>\n",
       "      <th>followers_total</th>\n",
       "      <th>subscribers_gained</th>\n",
       "      <th>subscribers_lost</th>\n",
       "      <th>subscribers_net</th>\n",
       "      <th>subscribers_total</th>\n",
       "      <th>views</th>\n",
       "    </tr>\n",
       "  </thead>\n",
       "  <tbody>\n",
       "    <tr>\n",
       "      <th>12</th>\n",
       "      <td>05-01-2021</td>\n",
       "      <td>5/31/2021</td>\n",
       "      <td>462</td>\n",
       "      <td>7</td>\n",
       "      <td>455</td>\n",
       "      <td>3262</td>\n",
       "      <td>6</td>\n",
       "      <td>0</td>\n",
       "      <td>6</td>\n",
       "      <td>51</td>\n",
       "      <td>167608.0</td>\n",
       "    </tr>\n",
       "    <tr>\n",
       "      <th>14</th>\n",
       "      <td>07-01-2021</td>\n",
       "      <td>7/31/2021</td>\n",
       "      <td>541</td>\n",
       "      <td>5</td>\n",
       "      <td>536</td>\n",
       "      <td>4390</td>\n",
       "      <td>20</td>\n",
       "      <td>6</td>\n",
       "      <td>14</td>\n",
       "      <td>70</td>\n",
       "      <td>144167.0</td>\n",
       "    </tr>\n",
       "  </tbody>\n",
       "</table>\n",
       "</div>"
      ],
      "text/plain": [
       "   period_start period_end  followers_gained  followers_lost  followers_net  \\\n",
       "12   05-01-2021  5/31/2021               462               7            455   \n",
       "14   07-01-2021  7/31/2021               541               5            536   \n",
       "\n",
       "    followers_total  subscribers_gained  subscribers_lost  subscribers_net  \\\n",
       "12             3262                   6                 0                6   \n",
       "14             4390                  20                 6               14   \n",
       "\n",
       "    subscribers_total     views  \n",
       "12                 51  167608.0  \n",
       "14                 70  144167.0  "
      ]
     },
     "execution_count": 41,
     "metadata": {},
     "output_type": "execute_result"
    }
   ],
   "source": [
    "df[df[\"followers_lost\"]>=5]"
   ]
  },
  {
   "cell_type": "code",
   "execution_count": 42,
   "id": "086384c9",
   "metadata": {},
   "outputs": [
    {
     "data": {
      "text/plain": [
       "2"
      ]
     },
     "execution_count": 42,
     "metadata": {},
     "output_type": "execute_result"
    }
   ],
   "source": [
    "len(df[df[\"followers_lost\"]>=5])"
   ]
  },
  {
   "cell_type": "markdown",
   "id": "d3f2da50",
   "metadata": {},
   "source": [
    "# In between which month,the view is less?"
   ]
  },
  {
   "cell_type": "code",
   "execution_count": 44,
   "id": "36ad1dfe",
   "metadata": {},
   "outputs": [
    {
     "data": {
      "text/plain": [
       "0.0"
      ]
     },
     "execution_count": 44,
     "metadata": {},
     "output_type": "execute_result"
    }
   ],
   "source": [
    "df[\"views\"].min()"
   ]
  },
  {
   "cell_type": "code",
   "execution_count": 45,
   "id": "823c6fbd",
   "metadata": {},
   "outputs": [
    {
     "data": {
      "text/html": [
       "<div>\n",
       "<style scoped>\n",
       "    .dataframe tbody tr th:only-of-type {\n",
       "        vertical-align: middle;\n",
       "    }\n",
       "\n",
       "    .dataframe tbody tr th {\n",
       "        vertical-align: top;\n",
       "    }\n",
       "\n",
       "    .dataframe thead th {\n",
       "        text-align: right;\n",
       "    }\n",
       "</style>\n",
       "<table border=\"1\" class=\"dataframe\">\n",
       "  <thead>\n",
       "    <tr style=\"text-align: right;\">\n",
       "      <th></th>\n",
       "      <th>period_start</th>\n",
       "      <th>period_end</th>\n",
       "    </tr>\n",
       "  </thead>\n",
       "  <tbody>\n",
       "    <tr>\n",
       "      <th>15</th>\n",
       "      <td>08-01-2021</td>\n",
       "      <td>8/31/2021</td>\n",
       "    </tr>\n",
       "  </tbody>\n",
       "</table>\n",
       "</div>"
      ],
      "text/plain": [
       "   period_start period_end\n",
       "15   08-01-2021  8/31/2021"
      ]
     },
     "execution_count": 45,
     "metadata": {},
     "output_type": "execute_result"
    }
   ],
   "source": [
    "df[df['views']==0.0][[\"period_start\",\"period_end\"]]"
   ]
  },
  {
   "cell_type": "markdown",
   "id": "ebe0bf5a",
   "metadata": {},
   "source": [
    "# Draw the boxplot of total followers and total subscribers?\n"
   ]
  },
  {
   "cell_type": "code",
   "execution_count": 48,
   "id": "a55c8ac7",
   "metadata": {},
   "outputs": [
    {
     "data": {
      "image/png": "[encoded data removed]",
      "text/plain": [
       "<Figure size 640x480 with 1 Axes>"
      ]
     },
     "metadata": {},
     "output_type": "display_data"
    }
   ],
   "source": [
    "plt.boxplot(df[\"followers_total\"])\n",
    "plt.show()"
   ]
  },
  {
   "cell_type": "code",
   "execution_count": 49,
   "id": "6aceac1b",
   "metadata": {},
   "outputs": [
    {
     "data": {
      "image/png": "[encoded data removed]",
      "text/plain": [
       "<Figure size 640x480 with 1 Axes>"
      ]
     },
     "metadata": {},
     "output_type": "display_data"
    }
   ],
   "source": [
    "plt.boxplot(df[\"subscribers_total\"])\n",
    "plt.show()"
   ]
  },
  {
   "cell_type": "code",
   "execution_count": null,
   "id": "dc376764",
   "metadata": {},
   "outputs": [],
   "source": []
  }
 ],
 "metadata": {
  "kernelspec": {
   "display_name": "Python 3 (ipykernel)",
   "language": "python",
   "name": "python3"
  },
  "language_info": {
   "codemirror_mode": {
    "name": "ipython",
    "version": 3
   },
   "file_extension": ".py",
   "mimetype": "text/x-python",
   "name": "python",
   "nbconvert_exporter": "python",
   "pygments_lexer": "ipython3",
   "version": "3.9.13"
  }
 },
 "nbformat": 4,
 "nbformat_minor": 5
}
